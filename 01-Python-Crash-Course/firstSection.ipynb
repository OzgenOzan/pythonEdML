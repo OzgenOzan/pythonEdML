{
 "cells": [
  {
   "cell_type": "markdown",
   "id": "df326660",
   "metadata": {},
   "source": [
    "Modulo Operator"
   ]
  },
  {
   "cell_type": "code",
   "execution_count": 3,
   "id": "007b5d8e",
   "metadata": {},
   "outputs": [
    {
     "data": {
      "text/plain": [
       "1"
      ]
     },
     "execution_count": 3,
     "metadata": {},
     "output_type": "execute_result"
    }
   ],
   "source": [
    "10 % 3"
   ]
  },
  {
   "cell_type": "code",
   "execution_count": 5,
   "id": "230f641c",
   "metadata": {},
   "outputs": [
    {
     "name": "stdout",
     "output_type": "stream",
     "text": [
      "My name is Ozan and I am 28 years old\n"
     ]
    }
   ],
   "source": [
    "print(\"My name is {} and I am {} years old\".format(\"Ozan\", \"28\"))"
   ]
  },
  {
   "cell_type": "code",
   "execution_count": 6,
   "id": "a5bb8877",
   "metadata": {},
   "outputs": [
    {
     "name": "stdout",
     "output_type": "stream",
     "text": [
      "I am 28 years old. Also, my birthday is 15.06.1995\n"
     ]
    }
   ],
   "source": [
    "print(\"I am {a} years old. Also, my birthday is {b}\".format(a=\"28\", b=\"15.06.1995\"))"
   ]
  },
  {
   "cell_type": "code",
   "execution_count": 7,
   "id": "180750c7",
   "metadata": {},
   "outputs": [],
   "source": [
    "myList = [\"ozan\", 3, 4.5]"
   ]
  },
  {
   "cell_type": "code",
   "execution_count": 8,
   "id": "0e44f343",
   "metadata": {},
   "outputs": [
    {
     "data": {
      "text/plain": [
       "'ozan'"
      ]
     },
     "execution_count": 8,
     "metadata": {},
     "output_type": "execute_result"
    }
   ],
   "source": [
    "myList[0]"
   ]
  },
  {
   "cell_type": "code",
   "execution_count": 9,
   "id": "3b783034",
   "metadata": {},
   "outputs": [
    {
     "data": {
      "text/plain": [
       "4.5"
      ]
     },
     "execution_count": 9,
     "metadata": {},
     "output_type": "execute_result"
    }
   ],
   "source": [
    "myList[2]"
   ]
  },
  {
   "cell_type": "code",
   "execution_count": 11,
   "id": "f45ced9f",
   "metadata": {},
   "outputs": [
    {
     "data": {
      "text/plain": [
       "4.5"
      ]
     },
     "execution_count": 11,
     "metadata": {},
     "output_type": "execute_result"
    }
   ],
   "source": [
    "myList[-1] # subtracts from 0"
   ]
  },
  {
   "cell_type": "code",
   "execution_count": 15,
   "id": "a885d015",
   "metadata": {},
   "outputs": [],
   "source": [
    "myList[1] = \"change\""
   ]
  },
  {
   "cell_type": "code",
   "execution_count": 16,
   "id": "08a8c576",
   "metadata": {},
   "outputs": [
    {
     "data": {
      "text/plain": [
       "['ozan', 'change', 4.5]"
      ]
     },
     "execution_count": 16,
     "metadata": {},
     "output_type": "execute_result"
    }
   ],
   "source": [
    "myList"
   ]
  },
  {
   "cell_type": "code",
   "execution_count": 17,
   "id": "5ae89e9b",
   "metadata": {},
   "outputs": [],
   "source": [
    "myList.append(\"addition\")"
   ]
  },
  {
   "cell_type": "code",
   "execution_count": 18,
   "id": "f058f902",
   "metadata": {},
   "outputs": [
    {
     "data": {
      "text/plain": [
       "['ozan', 'change', 4.5, 'addition']"
      ]
     },
     "execution_count": 18,
     "metadata": {},
     "output_type": "execute_result"
    }
   ],
   "source": [
    "myList"
   ]
  },
  {
   "cell_type": "code",
   "execution_count": 19,
   "id": "a3311242",
   "metadata": {},
   "outputs": [],
   "source": [
    "nestedList = [\"a\", \"b\", [\"c\", \"d\", \"e\"]]"
   ]
  },
  {
   "cell_type": "code",
   "execution_count": 20,
   "id": "f77e1bf3",
   "metadata": {},
   "outputs": [
    {
     "data": {
      "text/plain": [
       "'d'"
      ]
     },
     "execution_count": 20,
     "metadata": {},
     "output_type": "execute_result"
    }
   ],
   "source": [
    "nestedList[2][1]"
   ]
  },
  {
   "cell_type": "code",
   "execution_count": 1,
   "id": "81d2b17e",
   "metadata": {},
   "outputs": [],
   "source": [
    "d = {\"key1\": \"value1\", \"key2\": \"value2\"} # Dictionary or Hash Tables, no order"
   ]
  },
  {
   "cell_type": "code",
   "execution_count": 2,
   "id": "c925166f",
   "metadata": {},
   "outputs": [
    {
     "data": {
      "text/plain": [
       "'value1'"
      ]
     },
     "execution_count": 2,
     "metadata": {},
     "output_type": "execute_result"
    }
   ],
   "source": [
    "d[\"key1\"]"
   ]
  },
  {
   "cell_type": "code",
   "execution_count": 3,
   "id": "74e94903",
   "metadata": {},
   "outputs": [],
   "source": [
    "t = (1, 2, 3) # tuble, unchangeable"
   ]
  },
  {
   "cell_type": "markdown",
   "id": "28857d3f",
   "metadata": {},
   "source": [
    "---"
   ]
  },
  {
   "cell_type": "code",
   "execution_count": 5,
   "id": "de17bddf",
   "metadata": {},
   "outputs": [
    {
     "data": {
      "text/plain": [
       "True"
      ]
     },
     "execution_count": 5,
     "metadata": {},
     "output_type": "execute_result"
    }
   ],
   "source": [
    "1 <= 1"
   ]
  },
  {
   "cell_type": "code",
   "execution_count": 6,
   "id": "60094a2e",
   "metadata": {},
   "outputs": [
    {
     "data": {
      "text/plain": [
       "False"
      ]
     },
     "execution_count": 6,
     "metadata": {},
     "output_type": "execute_result"
    }
   ],
   "source": [
    "1 >= 2"
   ]
  },
  {
   "cell_type": "code",
   "execution_count": 7,
   "id": "bf22aa69",
   "metadata": {},
   "outputs": [
    {
     "data": {
      "text/plain": [
       "False"
      ]
     },
     "execution_count": 7,
     "metadata": {},
     "output_type": "execute_result"
    }
   ],
   "source": [
    "\"A\" == \"a\""
   ]
  },
  {
   "cell_type": "code",
   "execution_count": 8,
   "id": "21d267a3",
   "metadata": {},
   "outputs": [
    {
     "data": {
      "text/plain": [
       "True"
      ]
     },
     "execution_count": 8,
     "metadata": {},
     "output_type": "execute_result"
    }
   ],
   "source": [
    "1 == 1.0"
   ]
  },
  {
   "cell_type": "code",
   "execution_count": 9,
   "id": "7697c47c",
   "metadata": {},
   "outputs": [
    {
     "data": {
      "text/plain": [
       "False"
      ]
     },
     "execution_count": 9,
     "metadata": {},
     "output_type": "execute_result"
    }
   ],
   "source": [
    "1 != 1"
   ]
  },
  {
   "cell_type": "code",
   "execution_count": 10,
   "id": "9758d874",
   "metadata": {},
   "outputs": [
    {
     "data": {
      "text/plain": [
       "True"
      ]
     },
     "execution_count": 10,
     "metadata": {},
     "output_type": "execute_result"
    }
   ],
   "source": [
    "1 != 2"
   ]
  },
  {
   "cell_type": "code",
   "execution_count": 11,
   "id": "1ac8a011",
   "metadata": {},
   "outputs": [
    {
     "data": {
      "text/plain": [
       "True"
      ]
     },
     "execution_count": 11,
     "metadata": {},
     "output_type": "execute_result"
    }
   ],
   "source": [
    "(1 == 1) and (\"a\" == \"a\")"
   ]
  },
  {
   "cell_type": "code",
   "execution_count": 12,
   "id": "633d7788",
   "metadata": {},
   "outputs": [
    {
     "data": {
      "text/plain": [
       "False"
      ]
     },
     "execution_count": 12,
     "metadata": {},
     "output_type": "execute_result"
    }
   ],
   "source": [
    "(1 == 1) and (\"a\" == \"A\")"
   ]
  },
  {
   "cell_type": "code",
   "execution_count": 13,
   "id": "609e1c98",
   "metadata": {},
   "outputs": [
    {
     "data": {
      "text/plain": [
       "True"
      ]
     },
     "execution_count": 13,
     "metadata": {},
     "output_type": "execute_result"
    }
   ],
   "source": [
    "(1 == 1) or (\"a\" == \"A\")"
   ]
  },
  {
   "cell_type": "code",
   "execution_count": 14,
   "id": "5a33288e",
   "metadata": {},
   "outputs": [
    {
     "name": "stdout",
     "output_type": "stream",
     "text": [
      "Well, that's true\n"
     ]
    }
   ],
   "source": [
    "if (1):\n",
    "    print(\"Well, that's true\")"
   ]
  },
  {
   "cell_type": "code",
   "execution_count": 17,
   "id": "89f2ae2e",
   "metadata": {},
   "outputs": [
    {
     "name": "stdout",
     "output_type": "stream",
     "text": [
      "Well, that wasn't true\n"
     ]
    }
   ],
   "source": [
    "if (0):\n",
    "    print(\"Well, that's true\")\n",
    "else:\n",
    "    print(\"Well, that wasn't true\")"
   ]
  },
  {
   "cell_type": "code",
   "execution_count": 18,
   "id": "b697344b",
   "metadata": {},
   "outputs": [
    {
     "name": "stdout",
     "output_type": "stream",
     "text": [
      "Second condition is true\n"
     ]
    }
   ],
   "source": [
    "if (0):\n",
    "    print(\"Well, that's true\")\n",
    "elif (1):\n",
    "    print(\"Second condition is true\")\n",
    "else:\n",
    "    print(\"Well, that wasn't true\")"
   ]
  },
  {
   "cell_type": "code",
   "execution_count": 25,
   "id": "e4da0852",
   "metadata": {},
   "outputs": [],
   "source": [
    "exampleSeq = [\"a\", \"b\", \"c\", 1, 3, 5]"
   ]
  },
  {
   "cell_type": "code",
   "execution_count": 26,
   "id": "ebe0eec8",
   "metadata": {},
   "outputs": [
    {
     "name": "stdout",
     "output_type": "stream",
     "text": [
      "a\n",
      "b\n",
      "c\n",
      "1\n",
      "3\n",
      "5\n"
     ]
    }
   ],
   "source": [
    "for i in exampleSeq:\n",
    "    print(i)"
   ]
  },
  {
   "cell_type": "code",
   "execution_count": 27,
   "id": "4be742df",
   "metadata": {},
   "outputs": [
    {
     "name": "stdout",
     "output_type": "stream",
     "text": [
      "i\n",
      "i\n",
      "i\n",
      "i\n",
      "i\n",
      "i\n"
     ]
    }
   ],
   "source": [
    "for i in exampleSeq:\n",
    "    print(\"i\")"
   ]
  },
  {
   "cell_type": "code",
   "execution_count": 28,
   "id": "27f0678b",
   "metadata": {},
   "outputs": [
    {
     "name": "stdout",
     "output_type": "stream",
     "text": [
      "aa\n",
      "bb\n",
      "cc\n",
      "2\n",
      "6\n",
      "10\n"
     ]
    }
   ],
   "source": [
    "for i in exampleSeq:\n",
    "    print(i+i)"
   ]
  },
  {
   "cell_type": "code",
   "execution_count": 30,
   "id": "c6b7d628",
   "metadata": {},
   "outputs": [
    {
     "name": "stdout",
     "output_type": "stream",
     "text": [
      "The current step is 1\n",
      "The current step is 2\n",
      "The current step is 3\n",
      "The current step is 4\n"
     ]
    }
   ],
   "source": [
    "i = 1\n",
    "while (i < 5):\n",
    "    print(\"The current step is {}\".format(i))\n",
    "    i = i + 1"
   ]
  },
  {
   "cell_type": "code",
   "execution_count": 31,
   "id": "fb9d42e6",
   "metadata": {},
   "outputs": [
    {
     "data": {
      "text/plain": [
       "[0, 1, 2, 3, 4, 5, 6, 7, 8, 9]"
      ]
     },
     "execution_count": 31,
     "metadata": {},
     "output_type": "execute_result"
    }
   ],
   "source": [
    "list(range(10))"
   ]
  },
  {
   "cell_type": "code",
   "execution_count": 32,
   "id": "f1f29142",
   "metadata": {},
   "outputs": [
    {
     "data": {
      "text/plain": [
       "[4, 5, 6, 7, 8, 9]"
      ]
     },
     "execution_count": 32,
     "metadata": {},
     "output_type": "execute_result"
    }
   ],
   "source": [
    "list(range(4, 10))"
   ]
  },
  {
   "cell_type": "code",
   "execution_count": 34,
   "id": "4459332a",
   "metadata": {},
   "outputs": [],
   "source": [
    "myNonSqList = [0, 1, 2, 3, 4, 5]"
   ]
  },
  {
   "cell_type": "code",
   "execution_count": 36,
   "id": "37485bad",
   "metadata": {},
   "outputs": [
    {
     "name": "stdout",
     "output_type": "stream",
     "text": [
      "[0, 1, 4, 9, 16, 25]\n"
     ]
    }
   ],
   "source": [
    "mySqList = []\n",
    "for num in myNonSqList:\n",
    "    mySqList.append(num**2)\n",
    "\n",
    "print(mySqList)"
   ]
  },
  {
   "cell_type": "code",
   "execution_count": 37,
   "id": "961f64ac",
   "metadata": {},
   "outputs": [
    {
     "data": {
      "text/plain": [
       "[0, 1, 4, 9, 16, 25]"
      ]
     },
     "execution_count": 37,
     "metadata": {},
     "output_type": "execute_result"
    }
   ],
   "source": [
    "[num**2 for num in myNonSqList] # shortcut for the above mentioned formula (list comprehension)"
   ]
  },
  {
   "cell_type": "markdown",
   "id": "a24699da",
   "metadata": {},
   "source": [
    "---"
   ]
  },
  {
   "cell_type": "code",
   "execution_count": 43,
   "id": "fedcc8d2",
   "metadata": {},
   "outputs": [],
   "source": [
    "def my_first_func(order = \"first\"):\n",
    "    \"\"\"\n",
    "    This function shows the current order!\n",
    "    \"\"\"\n",
    "    print(\"The {} function has been defined\".format(order))"
   ]
  },
  {
   "cell_type": "code",
   "execution_count": 44,
   "id": "11dc69c4",
   "metadata": {},
   "outputs": [
    {
     "name": "stdout",
     "output_type": "stream",
     "text": [
      "The first function has been defined\n"
     ]
    }
   ],
   "source": [
    "my_first_func()"
   ]
  },
  {
   "cell_type": "code",
   "execution_count": 45,
   "id": "db0c5ed9",
   "metadata": {},
   "outputs": [
    {
     "name": "stdout",
     "output_type": "stream",
     "text": [
      "The second function has been defined\n"
     ]
    }
   ],
   "source": [
    "my_first_func(\"second\")"
   ]
  },
  {
   "cell_type": "code",
   "execution_count": 47,
   "id": "e3dd34d2",
   "metadata": {},
   "outputs": [
    {
     "data": {
      "text/plain": [
       "<function __main__.my_first_func(order='first')>"
      ]
     },
     "execution_count": 47,
     "metadata": {},
     "output_type": "execute_result"
    }
   ],
   "source": [
    "my_first_func # shift + Tab"
   ]
  },
  {
   "cell_type": "code",
   "execution_count": 48,
   "id": "83c91516",
   "metadata": {},
   "outputs": [],
   "source": [
    "def squareIt(x):\n",
    "    return (x**2)"
   ]
  },
  {
   "cell_type": "code",
   "execution_count": 49,
   "id": "9a785d10",
   "metadata": {},
   "outputs": [
    {
     "data": {
      "text/plain": [
       "36"
      ]
     },
     "execution_count": 49,
     "metadata": {},
     "output_type": "execute_result"
    }
   ],
   "source": [
    "squareIt(6)"
   ]
  },
  {
   "cell_type": "code",
   "execution_count": 54,
   "id": "2e57afd5",
   "metadata": {},
   "outputs": [
    {
     "data": {
      "text/plain": [
       "<function __main__.<lambda>(x)>"
      ]
     },
     "execution_count": 54,
     "metadata": {},
     "output_type": "execute_result"
    }
   ],
   "source": [
    "lambda x: x**2 # Lambda expression"
   ]
  },
  {
   "cell_type": "code",
   "execution_count": 55,
   "id": "35c84e8e",
   "metadata": {},
   "outputs": [],
   "source": [
    "str = \"title of an article\""
   ]
  },
  {
   "cell_type": "code",
   "execution_count": 56,
   "id": "2f423530",
   "metadata": {},
   "outputs": [
    {
     "data": {
      "text/plain": [
       "'TITLE OF AN ARTICLE'"
      ]
     },
     "execution_count": 56,
     "metadata": {},
     "output_type": "execute_result"
    }
   ],
   "source": [
    "str.upper()"
   ]
  },
  {
   "cell_type": "code",
   "execution_count": 57,
   "id": "79673386",
   "metadata": {},
   "outputs": [
    {
     "data": {
      "text/plain": [
       "['title', 'of', 'an', 'article']"
      ]
     },
     "execution_count": 57,
     "metadata": {},
     "output_type": "execute_result"
    }
   ],
   "source": [
    "str.split()"
   ]
  },
  {
   "cell_type": "code",
   "execution_count": 61,
   "id": "36c028af",
   "metadata": {},
   "outputs": [
    {
     "data": {
      "text/plain": [
       "' article'"
      ]
     },
     "execution_count": 61,
     "metadata": {},
     "output_type": "execute_result"
    }
   ],
   "source": [
    "str.split(\"of an\")[-1]"
   ]
  },
  {
   "cell_type": "code",
   "execution_count": 62,
   "id": "75d502e3",
   "metadata": {},
   "outputs": [],
   "source": [
    "secondDict = {\"key1\": \"val1\", \"key2\": \"val2\"}"
   ]
  },
  {
   "cell_type": "code",
   "execution_count": 64,
   "id": "f71743a2",
   "metadata": {},
   "outputs": [
    {
     "data": {
      "text/plain": [
       "dict_keys(['key1', 'key2'])"
      ]
     },
     "execution_count": 64,
     "metadata": {},
     "output_type": "execute_result"
    }
   ],
   "source": [
    "secondDict.keys()"
   ]
  },
  {
   "cell_type": "code",
   "execution_count": 65,
   "id": "7c48cedc",
   "metadata": {},
   "outputs": [
    {
     "data": {
      "text/plain": [
       "dict_items([('key1', 'val1'), ('key2', 'val2')])"
      ]
     },
     "execution_count": 65,
     "metadata": {},
     "output_type": "execute_result"
    }
   ],
   "source": [
    "secondDict.items()"
   ]
  },
  {
   "cell_type": "code",
   "execution_count": 66,
   "id": "845ebdcb",
   "metadata": {},
   "outputs": [
    {
     "data": {
      "text/plain": [
       "dict_values(['val1', 'val2'])"
      ]
     },
     "execution_count": 66,
     "metadata": {},
     "output_type": "execute_result"
    }
   ],
   "source": [
    "secondDict.values()"
   ]
  },
  {
   "cell_type": "code",
   "execution_count": 67,
   "id": "8232fd5a",
   "metadata": {},
   "outputs": [],
   "source": [
    "anotherList = [0, 1, 2, 3]"
   ]
  },
  {
   "cell_type": "code",
   "execution_count": 68,
   "id": "78a0865b",
   "metadata": {},
   "outputs": [],
   "source": [
    "poppedOne = anotherList.pop(1)"
   ]
  },
  {
   "cell_type": "code",
   "execution_count": 69,
   "id": "68e2b5e1",
   "metadata": {},
   "outputs": [
    {
     "data": {
      "text/plain": [
       "1"
      ]
     },
     "execution_count": 69,
     "metadata": {},
     "output_type": "execute_result"
    }
   ],
   "source": [
    "poppedOne"
   ]
  },
  {
   "cell_type": "code",
   "execution_count": 70,
   "id": "0310014d",
   "metadata": {},
   "outputs": [
    {
     "data": {
      "text/plain": [
       "[0, 2, 3]"
      ]
     },
     "execution_count": 70,
     "metadata": {},
     "output_type": "execute_result"
    }
   ],
   "source": [
    "anotherList"
   ]
  },
  {
   "cell_type": "code",
   "execution_count": 71,
   "id": "e287040a",
   "metadata": {},
   "outputs": [
    {
     "data": {
      "text/plain": [
       "False"
      ]
     },
     "execution_count": 71,
     "metadata": {},
     "output_type": "execute_result"
    }
   ],
   "source": [
    "1 in anotherList"
   ]
  },
  {
   "cell_type": "code",
   "execution_count": 72,
   "id": "2dd5b0f8",
   "metadata": {},
   "outputs": [
    {
     "data": {
      "text/plain": [
       "True"
      ]
     },
     "execution_count": 72,
     "metadata": {},
     "output_type": "execute_result"
    }
   ],
   "source": [
    "0 in anotherList"
   ]
  },
  {
   "cell_type": "code",
   "execution_count": null,
   "id": "3749e135",
   "metadata": {},
   "outputs": [],
   "source": []
  }
 ],
 "metadata": {
  "kernelspec": {
   "display_name": "Python 3 (ipykernel)",
   "language": "python",
   "name": "python3"
  },
  "language_info": {
   "codemirror_mode": {
    "name": "ipython",
    "version": 3
   },
   "file_extension": ".py",
   "mimetype": "text/x-python",
   "name": "python",
   "nbconvert_exporter": "python",
   "pygments_lexer": "ipython3",
   "version": "3.11.5"
  }
 },
 "nbformat": 4,
 "nbformat_minor": 5
}
